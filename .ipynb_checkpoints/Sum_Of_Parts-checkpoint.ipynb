{
 "cells": [
  {
   "cell_type": "markdown",
   "metadata": {},
   "source": [
    "# *Challenge Of the Day*\n",
    "*Sums of Parts*\n",
    "Let us consider this example (array written in general format):\n",
    "ls = [0, 1, 3, 6, 10]\n",
    "Its consisting of following parts:\n",
    "ls = [0, 1, 3, 6, 10]\n",
    "ls = [1, 3, 6, 10]\n",
    "ls = [3, 6, 10]\n",
    "ls = [6, 10]\n",
    "ls = [10]\n",
    "ls = []\n",
    "The corresponding sums are (put together in a list): [20, 20, 19, 16, 10, 0]\n",
    "\n",
    "*Other Examples:*\n",
    "ls = [1, 2, 3, 4, 5, 6]\n",
    "parts_sums(ls) -> [21, 20, 18, 15, 11, 6, 0]\n",
    "\n",
    "ls = [744125, 935, 407, 454, 430, 90, 144, 6710213, 889, 810, 2579358]\n",
    "parts_sums(ls) -> [10037855, 9293730, 9292795, 9292388, 9291934, 9291504, 9291414, 9291270, 2581057, 2580168, 2579358, 0]"
   ]
  },
  {
   "cell_type": "code",
   "execution_count": 1,
   "metadata": {},
   "outputs": [
    {
     "name": "stdout",
     "output_type": "stream",
     "text": [
      "[10037855, 9293730, 9292795, 9292388, 9291934, 9291504, 9291414, 9291270, 2581057, 2580168, 2579358]\n"
     ]
    }
   ],
   "source": [
    "def parts_sums(ls):\n",
    "   ln = len(ls)\n",
    "   fl = []\n",
    "   for n in range(ln):\n",
    "       sm = 0\n",
    "       for p in range(n,ln):\n",
    "           sm += ls[p]\n",
    "       fl.append(sm)\n",
    "   return(fl)\n",
    "\n",
    "ls = [744125, 935, 407, 454, 430, 90, 144, 6710213, 889, 810, 2579358]\n",
    "print(parts_sums(ls))"
   ]
  },
  {
   "cell_type": "code",
   "execution_count": null,
   "metadata": {},
   "outputs": [],
   "source": []
  }
 ],
 "metadata": {
  "kernelspec": {
   "display_name": "Python 3",
   "language": "python",
   "name": "python3"
  },
  "language_info": {
   "codemirror_mode": {
    "name": "ipython",
    "version": 3
   },
   "file_extension": ".py",
   "mimetype": "text/x-python",
   "name": "python",
   "nbconvert_exporter": "python",
   "pygments_lexer": "ipython3",
   "version": "3.7.3"
  }
 },
 "nbformat": 4,
 "nbformat_minor": 2
}
