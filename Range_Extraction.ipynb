{
 "cells": [
  {
   "cell_type": "markdown",
   "metadata": {},
   "source": [
    "# *Challenge Of the Day*\n",
    "*Range Extraction*\n",
    "A format for expressing an ordered list of integers is to use a comma separated list of either\n",
    "1) individual integers\n",
    "2) or a range of integers denoted by the starting integer separated from the end integer in the range by a dash, '-'. The range includes all integers in the interval including both endpoints. It is not considered a range unless it spans at least 3 numbers. For example (\"12, 13, 15-17\")\n",
    "Complete the solution so that it takes a list of integers in increasing order and returns a correctly formatted string in the range format.\n",
    "*Example:*\n",
    "[-6, -3, -2, -1, 0, 1, 3, 4, 5, 7, 8, 9, 10, 11, 14, 15, 17, 18, 19, 20] => \"-6,-3-1,3-5,7-11,14,15,17-20\"\n",
    "[-76,-75,-72,-69,-68,-67,-65,-62,-60,-57,-56,-55,-52,-51,-48,-45,-44,-43,-42,-41,-40,-37,-35,-33,-32,-29,-28] => -76,-75,-72,-69--67,-65,-62,-60,-57--55,-52,-51,-48,-45--40,-37,-35,-33,-32,-29,-28"
   ]
  },
  {
   "cell_type": "code",
   "execution_count": 1,
   "metadata": {},
   "outputs": [
    {
     "data": {
      "text/plain": [
       "'1-4,7-9'"
      ]
     },
     "execution_count": 1,
     "metadata": {},
     "output_type": "execute_result"
    }
   ],
   "source": [
    "def extraction(a):\n",
    "   l=len(a)\n",
    "   # First we will create a map\n",
    "   b=[True]\n",
    "   for n in range(1,l-1):\n",
    "       if a[n-1] == a[n]-1 and a[n+1] == a[n]+1:\n",
    "           b.append(False)\n",
    "       else:\n",
    "           b.append(True)\n",
    "   b.append(True)\n",
    "   # Now we will Generate a String using Map\n",
    "   s=str(a[0])\n",
    "   for n in range(1,l-1):\n",
    "       if b[n-1] and b[n]:\n",
    "           s += ','\n",
    "       if b[n]:\n",
    "           s += str(a[n])\n",
    "       if b[n-1] and not b[n]:\n",
    "           s += '-'\n",
    "   s += str(a[-1])\n",
    "   return(s)\n",
    "\n",
    "extraction([1,2,3,4,7,8,9])"
   ]
  },
  {
   "cell_type": "code",
   "execution_count": null,
   "metadata": {},
   "outputs": [],
   "source": []
  }
 ],
 "metadata": {
  "kernelspec": {
   "display_name": "Python 3",
   "language": "python",
   "name": "python3"
  },
  "language_info": {
   "codemirror_mode": {
    "name": "ipython",
    "version": 3
   },
   "file_extension": ".py",
   "mimetype": "text/x-python",
   "name": "python",
   "nbconvert_exporter": "python",
   "pygments_lexer": "ipython3",
   "version": "3.7.3"
  }
 },
 "nbformat": 4,
 "nbformat_minor": 2
}
